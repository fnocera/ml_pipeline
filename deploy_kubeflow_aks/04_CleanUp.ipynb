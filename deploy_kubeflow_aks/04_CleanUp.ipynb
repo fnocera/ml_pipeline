{
 "cells": [
  {
   "cell_type": "markdown",
   "metadata": {},
   "source": [
    "# Clean up"
   ]
  },
  {
   "cell_type": "markdown",
   "metadata": {},
   "source": [
    "You can clean up your subscription by deleting the resource group. This will delete AKS and blob storage you created earlier."
   ]
  },
  {
   "cell_type": "code",
   "execution_count": 2,
   "metadata": {},
   "outputs": [],
   "source": [
    "from environs import Env\n",
    "\n"
   ]
  },
  {
   "cell_type": "code",
   "execution_count": 3,
   "metadata": {},
   "outputs": [],
   "source": [
    "\n",
    "ENV = Env()\n",
    "ENV.read_env()\n",
    "\n",
    "subscription_id = ENV(\"AZURE_SUBSCRIPTION_ID\")\n",
    "resource_group = ENV(\"AZURE_RESOURCE_GROUP\") #  i.e.'kuberg'\n",
    "location = ENV(\"AZURE_RESOURCE_LOCATION\") # i.e. 'eastus'\n",
    "agent_size = \"Standard_D1_v2\" # i.e. 'Standard_NC6'\n",
    "aks_name = ENV(\"AKS_NAME\") # i.e. 'kubeaks'\n",
    "agent_count = 1 # agent count is the number of VMs that will be provisioned in the cluster, you can pick any number.\n",
    "storage_account = ENV(\"STORAGE_ACCOUNT_NAME\") # i.e. 'kubest'\n",
    "storage_container = ENV(\"AKS_CONTAINER\") # i.e. 'blobfuse'\n",
    "\n"
   ]
  },
  {
   "cell_type": "code",
   "execution_count": 4,
   "metadata": {},
   "outputs": [],
   "source": [
    "#env_path = find_dotenv(raise_error_if_not_found=True)\n",
    "# resource_group = get_key(env_path, 'resource_group')"
   ]
  },
  {
   "cell_type": "code",
   "execution_count": 6,
   "metadata": {},
   "outputs": [
    {
     "name": "stdout",
     "output_type": "stream",
     "text": [
      "\u001b[K - Finished ..\u001b[0m"
     ]
    }
   ],
   "source": [
    "!az aks delete --yes --name {aks_name} --resource-group {resource_group}"
   ]
  },
  {
   "cell_type": "code",
   "execution_count": 3,
   "metadata": {},
   "outputs": [
    {
     "name": "stdout",
     "output_type": "stream",
     "text": [
      "\u001b[K - Finished ..\u001b[0m"
     ]
    }
   ],
   "source": [
    "# Here want to just delte the storage account and aks cluster!!\n",
    "\n",
    "!az group delete --yes --name {resource_group}"
   ]
  }
 ],
 "metadata": {
  "kernelspec": {
   "display_name": "wine_env",
   "language": "python",
   "name": "python3"
  },
  "language_info": {
   "codemirror_mode": {
    "name": "ipython",
    "version": 3
   },
   "file_extension": ".py",
   "mimetype": "text/x-python",
   "name": "python",
   "nbconvert_exporter": "python",
   "pygments_lexer": "ipython3",
   "version": "3.7.3"
  }
 },
 "nbformat": 4,
 "nbformat_minor": 2
}
